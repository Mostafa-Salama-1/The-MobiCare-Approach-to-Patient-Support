{
 "cells": [
  {
   "cell_type": "code",
   "execution_count": 1,
   "id": "f0772e4f-0704-495f-bb2c-2f80e3782ead",
   "metadata": {},
   "outputs": [],
   "source": [
    "import mediapipe as mp \n",
    "import matplotlib.pyplot as plt \n",
    "import numpy as np \n",
    "import cv2"
   ]
  },
  {
   "cell_type": "code",
   "execution_count": 2,
   "id": "16a52f64-434a-436c-a74b-03213c056dd2",
   "metadata": {},
   "outputs": [],
   "source": [
    "direction=\"\"\n",
    "mp_face_mesh = mp.solutions.face_mesh\n",
    "face_mesh = mp_face_mesh.FaceMesh()\n",
    "\n",
    "cap = cv2.VideoCapture(0)\n",
    "x_nose,y_nose,x_left_eye,y_left_eye,x_right_eye,y_right_eye=0,0,0,0,0,0\n",
    "while True:\n",
    "    success, frame = cap.read()\n",
    "    #frame = cv2.cvtColor(cv2.flip(frame,1))\n",
    "    if success:\n",
    "        height, width, _ = frame.shape\n",
    "        frame_rgb = cv2.cvtColor(frame, cv2.COLOR_BGR2RGB)\n",
    "        results = face_mesh.process(frame_rgb)\n",
    "        \n",
    "        if results.multi_face_landmarks:\n",
    "            for face_landmarks in results.multi_face_landmarks:\n",
    "                if face_landmarks:\n",
    "                    #for i in range(0, 468):\n",
    "                    x_nose = int(face_landmarks.landmark[5].x * width)\n",
    "                    y_nose = int(face_landmarks.landmark[5].y * height)\n",
    "                    cv2.circle(frame, (x_nose, y_nose), 5, (255,100,0), -1)\n",
    "                    x_left_eye = int(face_landmarks.landmark[33].x * width)\n",
    "                    y_left_eye = int(face_landmarks.landmark[33].y * height)\n",
    "                    cv2.circle(frame, (x_left_eye, y_left_eye), 5, (255,100,0), -1)\n",
    "                    x_right_eye = int(face_landmarks.landmark[263].x * width)\n",
    "                    y_right_eye = int(face_landmarks.landmark[263].y * height)\n",
    "                    cv2.circle(frame, (x_right_eye, y_right_eye), 5, (255,100,0), -1)\n",
    "        '''\n",
    "        cv2.putText(frame,\"x_nose=\",(20,90), cv2.FONT_HERSHEY_SIMPLEX,0.5,(255,0,0),2)\n",
    "        cv2.putText(frame,str(x_nose),(90,90), cv2.FONT_HERSHEY_SIMPLEX,0.5,(255,0,0),2)\n",
    "        cv2.putText(frame,\"y_nose=\",(20,110), cv2.FONT_HERSHEY_SIMPLEX,0.5,(255,0,0),2)\n",
    "        cv2.putText(frame,str(y_nose),(90,110), cv2.FONT_HERSHEY_SIMPLEX,0.5,(255,0,0),2)\n",
    "        \n",
    "        cv2.putText(frame,\"x_left_eye=\",(20,130), cv2.FONT_HERSHEY_SIMPLEX,0.5,(255,0,0),2)\n",
    "        cv2.putText(frame,str(x_left_eye),(110,130), cv2.FONT_HERSHEY_SIMPLEX,0.5,(255,0,0),2)\n",
    "        cv2.putText(frame,\"y_left_eye=\",(20,150), cv2.FONT_HERSHEY_SIMPLEX,0.5,(255,0,0),2)\n",
    "        cv2.putText(frame,str(y_left_eye),(110,150), cv2.FONT_HERSHEY_SIMPLEX,0.5,(255,0,0),2)\n",
    "\n",
    "        cv2.putText(frame,\"x_right_eye=\",(20,170), cv2.FONT_HERSHEY_SIMPLEX,0.5,(255,0,0),2)\n",
    "        cv2.putText(frame,str(x_right_eye),(120,170), cv2.FONT_HERSHEY_SIMPLEX,0.5,(255,0,0),2)\n",
    "        cv2.putText(frame,\"y_right_eye=\",(20,190), cv2.FONT_HERSHEY_SIMPLEX,0.5,(255,0,0),2)\n",
    "        cv2.putText(frame,str(y_right_eye),(120,190), cv2.FONT_HERSHEY_SIMPLEX,0.5,(255,0,0),2)\n",
    "        '''\n",
    "        left_nose=abs(x_nose-x_left_eye)\n",
    "        right_nose=abs(x_nose-x_right_eye)\n",
    "        if(abs(left_nose-right_nose)<20):\n",
    "            direction=\"Forward\"\n",
    "        else:\n",
    "            if(left_nose>right_nose):\n",
    "                direction=\"Left\"\n",
    "            else:\n",
    "                direction=\"Right\"\n",
    "        \n",
    "        cv2.putText(frame,direction,(500,100), cv2.FONT_HERSHEY_SIMPLEX,1,(255,0,0),2)\n",
    "        cv2.imshow(\"Window\",frame)\n",
    "        if cv2.waitKey(1) == 27:\n",
    "            cap.release()\n",
    "            cv2.destroyAllWindows()\n",
    "            break"
   ]
  },
  {
   "cell_type": "code",
   "execution_count": null,
   "id": "cf6a5a1a-e1ca-4637-9b46-8395ae248a26",
   "metadata": {},
   "outputs": [],
   "source": []
  }
 ],
 "metadata": {
  "kernelspec": {
   "display_name": "Python 3 (ipykernel)",
   "language": "python",
   "name": "python3"
  },
  "language_info": {
   "codemirror_mode": {
    "name": "ipython",
    "version": 3
   },
   "file_extension": ".py",
   "mimetype": "text/x-python",
   "name": "python",
   "nbconvert_exporter": "python",
   "pygments_lexer": "ipython3",
   "version": "3.12.4"
  }
 },
 "nbformat": 4,
 "nbformat_minor": 5
}
